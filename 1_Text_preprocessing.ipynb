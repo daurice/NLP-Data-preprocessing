{
  "cells": [
    {
      "cell_type": "markdown",
      "metadata": {
        "id": "view-in-github",
        "colab_type": "text"
      },
      "source": [
        "<a href=\"https://colab.research.google.com/github/daurice/NLP-Data-preprocessing/blob/main/1_Text_preprocessing.ipynb\" target=\"_parent\"><img src=\"https://colab.research.google.com/assets/colab-badge.svg\" alt=\"Open In Colab\"/></a>"
      ]
    },
    {
      "cell_type": "code",
      "execution_count": null,
      "metadata": {
        "id": "ff78w4STzNYd"
      },
      "outputs": [],
      "source": [
        "import nltk"
      ]
    },
    {
      "cell_type": "code",
      "execution_count": null,
      "metadata": {
        "colab": {
          "base_uri": "https://localhost:8080/"
        },
        "id": "UJP3pJrBzNYd",
        "outputId": "3ed61930-23d4-4a39-9fdd-1ae84e70836e"
      },
      "outputs": [
        {
          "output_type": "stream",
          "name": "stderr",
          "text": [
            "[nltk_data] Downloading package wordnet to /root/nltk_data...\n"
          ]
        },
        {
          "output_type": "execute_result",
          "data": {
            "text/plain": [
              "True"
            ]
          },
          "metadata": {},
          "execution_count": 2
        }
      ],
      "source": [
        "nltk.download('wordnet')"
      ]
    },
    {
      "cell_type": "code",
      "execution_count": null,
      "metadata": {
        "id": "jEEvwaJgzNYe"
      },
      "outputs": [],
      "source": [
        "from nltk.stem import WordNetLemmatizer\n",
        "wnl = WordNetLemmatizer()"
      ]
    },
    {
      "cell_type": "code",
      "execution_count": null,
      "metadata": {
        "colab": {
          "base_uri": "https://localhost:8080/",
          "height": 35
        },
        "id": "nLlv7jTxzNYf",
        "outputId": "88feaf1c-f19a-4329-9dbe-d733766f83a8"
      },
      "outputs": [
        {
          "output_type": "execute_result",
          "data": {
            "text/plain": [
              "'dog'"
            ],
            "application/vnd.google.colaboratory.intrinsic+json": {
              "type": "string"
            }
          },
          "metadata": {},
          "execution_count": 4
        }
      ],
      "source": [
        "wnl.lemmatize('dogs')"
      ]
    },
    {
      "cell_type": "code",
      "execution_count": null,
      "metadata": {
        "colab": {
          "base_uri": "https://localhost:8080/",
          "height": 35
        },
        "id": "As2oSBp5zNYf",
        "outputId": "146596ce-7036-457d-e2b8-29af0650a9d7"
      },
      "outputs": [
        {
          "output_type": "execute_result",
          "data": {
            "text/plain": [
              "'box'"
            ],
            "application/vnd.google.colaboratory.intrinsic+json": {
              "type": "string"
            }
          },
          "metadata": {},
          "execution_count": 5
        }
      ],
      "source": [
        "wnl.lemmatize('boxes')"
      ]
    },
    {
      "cell_type": "code",
      "execution_count": null,
      "metadata": {
        "colab": {
          "base_uri": "https://localhost:8080/",
          "height": 35
        },
        "id": "ZWGjGDT7zNYg",
        "outputId": "d009b622-abe5-4884-d140-bf155ea7212e"
      },
      "outputs": [
        {
          "output_type": "execute_result",
          "data": {
            "text/plain": [
              "'leaf'"
            ],
            "application/vnd.google.colaboratory.intrinsic+json": {
              "type": "string"
            }
          },
          "metadata": {},
          "execution_count": 6
        }
      ],
      "source": [
        "wnl.lemmatize('leaves')"
      ]
    },
    {
      "cell_type": "code",
      "execution_count": null,
      "metadata": {
        "colab": {
          "base_uri": "https://localhost:8080/",
          "height": 35
        },
        "id": "RxO1IAoQzNYg",
        "outputId": "5cf55681-f815-48cd-dfa0-f1514fc898d2"
      },
      "outputs": [
        {
          "output_type": "execute_result",
          "data": {
            "text/plain": [
              "'book'"
            ],
            "application/vnd.google.colaboratory.intrinsic+json": {
              "type": "string"
            }
          },
          "metadata": {},
          "execution_count": 7
        }
      ],
      "source": [
        "wnl.lemmatize('books')"
      ]
    },
    {
      "cell_type": "code",
      "execution_count": null,
      "metadata": {
        "colab": {
          "base_uri": "https://localhost:8080/"
        },
        "id": "TLf2UG3zzNYh",
        "outputId": "c5ea8c54-b245-4b35-ef25-49bcadb06320"
      },
      "outputs": [
        {
          "output_type": "stream",
          "name": "stdout",
          "text": [
            "good\n"
          ]
        }
      ],
      "source": [
        "word='better'\n",
        "wnl.lemmatize(word)\n",
        "print(wnl.lemmatize(word, pos='a'))"
      ]
    },
    {
      "cell_type": "code",
      "source": [
        "wnl.lemmatize('better')"
      ],
      "metadata": {
        "id": "iYD1XW9VYi1J"
      },
      "execution_count": null,
      "outputs": []
    },
    {
      "cell_type": "code",
      "execution_count": null,
      "metadata": {
        "colab": {
          "base_uri": "https://localhost:8080/",
          "height": 35
        },
        "id": "Fn92t_MJzNYh",
        "outputId": "c5f40d95-2b1f-4668-bedc-e34f8a319c69"
      },
      "outputs": [
        {
          "output_type": "execute_result",
          "data": {
            "text/plain": [
              "'cry'"
            ],
            "application/vnd.google.colaboratory.intrinsic+json": {
              "type": "string"
            }
          },
          "metadata": {},
          "execution_count": 9
        }
      ],
      "source": [
        "wnl.lemmatize('crying')"
      ]
    },
    {
      "cell_type": "code",
      "execution_count": null,
      "metadata": {
        "colab": {
          "base_uri": "https://localhost:8080/",
          "height": 35
        },
        "id": "eGRcxPoSzNYi",
        "outputId": "87597513-7850-4b35-bbe4-1010d52372cb"
      },
      "outputs": [
        {
          "output_type": "execute_result",
          "data": {
            "text/plain": [
              "'jump'"
            ],
            "application/vnd.google.colaboratory.intrinsic+json": {
              "type": "string"
            }
          },
          "metadata": {},
          "execution_count": 15
        }
      ],
      "source": [
        "wnl.lemmatize('jumped',pos='v')"
      ]
    },
    {
      "cell_type": "code",
      "execution_count": null,
      "metadata": {
        "id": "wNurhhZmzNYi"
      },
      "outputs": [],
      "source": [
        "from nltk.stem import PorterStemmer"
      ]
    },
    {
      "cell_type": "code",
      "execution_count": null,
      "metadata": {
        "colab": {
          "base_uri": "https://localhost:8080/",
          "height": 35
        },
        "id": "OF3bEuGhzNYi",
        "outputId": "65568568-4fb7-4843-f68e-e29f6aa4a499"
      },
      "outputs": [
        {
          "output_type": "execute_result",
          "data": {
            "text/plain": [
              "'jump'"
            ],
            "application/vnd.google.colaboratory.intrinsic+json": {
              "type": "string"
            }
          },
          "metadata": {},
          "execution_count": 17
        }
      ],
      "source": [
        "stemmer=PorterStemmer()\n",
        "stemmer.stem(\"jumped\")"
      ]
    },
    {
      "cell_type": "code",
      "execution_count": null,
      "metadata": {
        "colab": {
          "base_uri": "https://localhost:8080/",
          "height": 35
        },
        "id": "-qDTMG6qzNYj",
        "outputId": "5705e050-dd11-4aa6-dd90-45e5a1ca9e10"
      },
      "outputs": [
        {
          "output_type": "execute_result",
          "data": {
            "text/plain": [
              "'better'"
            ],
            "application/vnd.google.colaboratory.intrinsic+json": {
              "type": "string"
            }
          },
          "metadata": {},
          "execution_count": 18
        }
      ],
      "source": [
        "stemmer.stem(\"better\")"
      ]
    },
    {
      "cell_type": "code",
      "execution_count": null,
      "metadata": {
        "id": "1nGqx9BKzNYj"
      },
      "outputs": [],
      "source": [
        "# # from nltk.corpus import stopwords\n",
        "# import nltk\n",
        "# nltk.download('stopwords')"
      ]
    },
    {
      "cell_type": "markdown",
      "source": [
        "### Stopwords"
      ],
      "metadata": {
        "id": "UGmlhG2rhtJF"
      }
    },
    {
      "cell_type": "code",
      "source": [
        "import nltk\n",
        "from nltk.corpus import stopwords"
      ],
      "metadata": {
        "id": "Xhy_1MzUpKW5"
      },
      "execution_count": null,
      "outputs": []
    },
    {
      "cell_type": "code",
      "execution_count": null,
      "metadata": {
        "colab": {
          "base_uri": "https://localhost:8080/"
        },
        "id": "NIMjVJ9VzNYj",
        "outputId": "377a87bc-53d7-4812-dad8-0807d24d4b0c"
      },
      "outputs": [
        {
          "output_type": "stream",
          "name": "stdout",
          "text": [
            "['i', 'me', 'my', 'myself', 'we', 'our', 'ours', 'ourselves', 'you', \"you're\", \"you've\", \"you'll\", \"you'd\", 'your', 'yours', 'yourself', 'yourselves', 'he', 'him', 'his', 'himself', 'she', \"she's\", 'her', 'hers', 'herself', 'it', \"it's\", 'its', 'itself', 'they', 'them', 'their', 'theirs', 'themselves', 'what', 'which', 'who', 'whom', 'this', 'that', \"that'll\", 'these', 'those', 'am', 'is', 'are', 'was', 'were', 'be', 'been', 'being', 'have', 'has', 'had', 'having', 'do', 'does', 'did', 'doing', 'a', 'an', 'the', 'and', 'but', 'if', 'or', 'because', 'as', 'until', 'while', 'of', 'at', 'by', 'for', 'with', 'about', 'against', 'between', 'into', 'through', 'during', 'before', 'after', 'above', 'below', 'to', 'from', 'up', 'down', 'in', 'out', 'on', 'off', 'over', 'under', 'again', 'further', 'then', 'once', 'here', 'there', 'when', 'where', 'why', 'how', 'all', 'any', 'both', 'each', 'few', 'more', 'most', 'other', 'some', 'such', 'no', 'nor', 'not', 'only', 'own', 'same', 'so', 'than', 'too', 'very', 's', 't', 'can', 'will', 'just', 'don', \"don't\", 'should', \"should've\", 'now', 'd', 'll', 'm', 'o', 're', 've', 'y', 'ain', 'aren', \"aren't\", 'couldn', \"couldn't\", 'didn', \"didn't\", 'doesn', \"doesn't\", 'hadn', \"hadn't\", 'hasn', \"hasn't\", 'haven', \"haven't\", 'isn', \"isn't\", 'ma', 'mightn', \"mightn't\", 'mustn', \"mustn't\", 'needn', \"needn't\", 'shan', \"shan't\", 'shouldn', \"shouldn't\", 'wasn', \"wasn't\", 'weren', \"weren't\", 'won', \"won't\", 'wouldn', \"wouldn't\"]\n",
            "179\n"
          ]
        },
        {
          "output_type": "stream",
          "name": "stderr",
          "text": [
            "[nltk_data] Downloading package stopwords to /root/nltk_data...\n",
            "[nltk_data]   Package stopwords is already up-to-date!\n"
          ]
        }
      ],
      "source": [
        "nltk.download('stopwords')\n",
        "print(stopwords.words('english'))\n",
        "print(len(stopwords.words('english')))\n",
        "stopw_list = stopwords.words('english')"
      ]
    },
    {
      "cell_type": "code",
      "source": [
        "from google.colab import drive\n",
        "drive.mount('/content/drive')"
      ],
      "metadata": {
        "colab": {
          "base_uri": "https://localhost:8080/"
        },
        "id": "v3x4ngqvb2T9",
        "outputId": "83909dba-095a-4bab-c2b9-657cc8d48c9c"
      },
      "execution_count": null,
      "outputs": [
        {
          "output_type": "stream",
          "name": "stdout",
          "text": [
            "Mounted at /content/drive\n"
          ]
        }
      ]
    },
    {
      "cell_type": "markdown",
      "source": [
        "### Sentence Tokenization"
      ],
      "metadata": {
        "id": "JDDERs2KiIgJ"
      }
    },
    {
      "cell_type": "code",
      "execution_count": null,
      "metadata": {
        "colab": {
          "base_uri": "https://localhost:8080/"
        },
        "id": "LiA1w7KUzNYn",
        "outputId": "bd1e5458-f820-4c4a-c43a-5c185a3d2092"
      },
      "outputs": [
        {
          "output_type": "stream",
          "name": "stderr",
          "text": [
            "[nltk_data] Downloading package punkt to /root/nltk_data...\n",
            "[nltk_data]   Unzipping tokenizers/punkt.zip.\n"
          ]
        },
        {
          "output_type": "stream",
          "name": "stdout",
          "text": [
            "Natural language processing (NLP) is an interdisciplinary subfield of computer science and linguistics.\n",
            "It is p rimarily concerned with giving computers the ability to support and manipulate speech.\n",
            "It involves processing natural language datasets, such as text corpora or speech corpora, using either rule-based or probabilistic (i.e.\n",
            "statistical and, most recently, neural network-based) machine learning approaches.\n",
            "The goal is a computer capable of \"understanding\" the contents of documents, including the contextual nuances of the language within them.\n",
            "The technology can then accurately extract  information and insights contained in the documents as well as categorize and organize the documents themselves.\n",
            "Challenges in natural language processing frequently involve speech recognition, natural-language understanding, and natural-language generation.\n",
            "History of natural language processing- Natural language processing has its roots in the 1950s.\n",
            "Already in 1950, Alan Turing published an article titled \"Computing Machinery and Intelligence\" which proposed what is now called the Turing test as a criterion of intelligence, though at the time that was not articulated as a problem separate from artificial intelligence.\n",
            "The proposed test includes a task that involves the automated interpretation and generation of natural language.\n"
          ]
        }
      ],
      "source": [
        "# Install NLTK - pip install nltk OR conda install nltk\n",
        "\n",
        "# Tokenization of paragraphs/sentences\n",
        "import nltk\n",
        "# nltk.download(\"all\")\n",
        "\n",
        "paragraph = \"\"\"Natural language processing (NLP) is an interdisciplinary subfield of computer science and linguistics. It is p rimarily concerned with giving computers the ability to support and manipulate speech. It involves processing natural language datasets, such as text corpora or speech corpora, using either rule-based or probabilistic (i.e. statistical and, most recently, neural network-based) machine learning approaches. The goal is a computer capable of \"understanding\" the contents of documents, including the contextual nuances of the language within them. The technology can then accurately extract  information and insights contained in the documents as well as categorize and organize the documents themselves.\n",
        "Challenges in natural language processing frequently involve speech recognition, natural-language understanding, and natural-language generation.\n",
        "History of natural language processing- Natural language processing has its roots in the 1950s. Already in 1950, Alan Turing published an article titled \"Computing Machinery and Intelligence\" which proposed what is now called the Turing test as a criterion of intelligence, though at the time that was not articulated as a problem separate from artificial intelligence. The proposed test includes a task that involves the automated interpretation and generation of natural language.\"\"\"\n",
        "\n",
        "# Tokenizing sentences'\n",
        "nltk.download('punkt')\n",
        "sentences = nltk.sent_tokenize(paragraph)\n",
        "for sent in sentences:\n",
        "    print(sent)\n",
        "\n",
        "\n"
      ]
    },
    {
      "cell_type": "markdown",
      "source": [
        "### Word Tokenization"
      ],
      "metadata": {
        "id": "Ip_87x2Zh1Il"
      }
    },
    {
      "cell_type": "code",
      "source": [
        "# Tokenizing words\n",
        "words = nltk.word_tokenize(paragraph)\n",
        "print(words)\n"
      ],
      "metadata": {
        "colab": {
          "base_uri": "https://localhost:8080/"
        },
        "id": "QOXAovn0Cr3U",
        "outputId": "de77f6e8-824a-4da3-8ba6-b6e74e68b523"
      },
      "execution_count": null,
      "outputs": [
        {
          "output_type": "stream",
          "name": "stdout",
          "text": [
            "['Natural', 'language', 'processing', '(', 'NLP', ')', 'is', 'an', 'interdisciplinary', 'subfield', 'of', 'computer', 'science', 'and', 'linguistics', '.', 'It', 'is', 'p', 'rimarily', 'concerned', 'with', 'giving', 'computers', 'the', 'ability', 'to', 'support', 'and', 'manipulate', 'speech', '.', 'It', 'involves', 'processing', 'natural', 'language', 'datasets', ',', 'such', 'as', 'text', 'corpora', 'or', 'speech', 'corpora', ',', 'using', 'either', 'rule-based', 'or', 'probabilistic', '(', 'i.e', '.', 'statistical', 'and', ',', 'most', 'recently', ',', 'neural', 'network-based', ')', 'machine', 'learning', 'approaches', '.', 'The', 'goal', 'is', 'a', 'computer', 'capable', 'of', '``', 'understanding', \"''\", 'the', 'contents', 'of', 'documents', ',', 'including', 'the', 'contextual', 'nuances', 'of', 'the', 'language', 'within', 'them', '.', 'The', 'technology', 'can', 'then', 'accurately', 'extract', 'information', 'and', 'insights', 'contained', 'in', 'the', 'documents', 'as', 'well', 'as', 'categorize', 'and', 'organize', 'the', 'documents', 'themselves', '.', 'Challenges', 'in', 'natural', 'language', 'processing', 'frequently', 'involve', 'speech', 'recognition', ',', 'natural-language', 'understanding', ',', 'and', 'natural-language', 'generation', '.', 'History', 'of', 'natural', 'language', 'processing-', 'Natural', 'language', 'processing', 'has', 'its', 'roots', 'in', 'the', '1950s', '.', 'Already', 'in', '1950', ',', 'Alan', 'Turing', 'published', 'an', 'article', 'titled', '``', 'Computing', 'Machinery', 'and', 'Intelligence', \"''\", 'which', 'proposed', 'what', 'is', 'now', 'called', 'the', 'Turing', 'test', 'as', 'a', 'criterion', 'of', 'intelligence', ',', 'though', 'at', 'the', 'time', 'that', 'was', 'not', 'articulated', 'as', 'a', 'problem', 'separate', 'from', 'artificial', 'intelligence', '.', 'The', 'proposed', 'test', 'includes', 'a', 'task', 'that', 'involves', 'the', 'automated', 'interpretation', 'and', 'generation', 'of', 'natural', 'language', '.']\n"
          ]
        }
      ]
    },
    {
      "cell_type": "code",
      "source": [
        "for word in stopwords.words('english'):\n",
        "    print(word)\n",
        "print(\"No. of stopwords: \",len(stopwords.words('english')))\n",
        "\n",
        "# Removing the stopwords\n",
        "for i in range(len(sentences)):\n",
        "    words = nltk.word_tokenize(sentences[i])\n",
        "    words = [word for word in words if word not in stopwords.words('english')]\n",
        "    sentences[i] = ' '.join(words)\n"
      ],
      "metadata": {
        "colab": {
          "base_uri": "https://localhost:8080/"
        },
        "id": "dVcBduoIBvYJ",
        "outputId": "f4e087f0-cd44-4e7d-f680-04ed48428318"
      },
      "execution_count": null,
      "outputs": [
        {
          "output_type": "stream",
          "name": "stdout",
          "text": [
            "i\n",
            "me\n",
            "my\n",
            "myself\n",
            "we\n",
            "our\n",
            "ours\n",
            "ourselves\n",
            "you\n",
            "you're\n",
            "you've\n",
            "you'll\n",
            "you'd\n",
            "your\n",
            "yours\n",
            "yourself\n",
            "yourselves\n",
            "he\n",
            "him\n",
            "his\n",
            "himself\n",
            "she\n",
            "she's\n",
            "her\n",
            "hers\n",
            "herself\n",
            "it\n",
            "it's\n",
            "its\n",
            "itself\n",
            "they\n",
            "them\n",
            "their\n",
            "theirs\n",
            "themselves\n",
            "what\n",
            "which\n",
            "who\n",
            "whom\n",
            "this\n",
            "that\n",
            "that'll\n",
            "these\n",
            "those\n",
            "am\n",
            "is\n",
            "are\n",
            "was\n",
            "were\n",
            "be\n",
            "been\n",
            "being\n",
            "have\n",
            "has\n",
            "had\n",
            "having\n",
            "do\n",
            "does\n",
            "did\n",
            "doing\n",
            "a\n",
            "an\n",
            "the\n",
            "and\n",
            "but\n",
            "if\n",
            "or\n",
            "because\n",
            "as\n",
            "until\n",
            "while\n",
            "of\n",
            "at\n",
            "by\n",
            "for\n",
            "with\n",
            "about\n",
            "against\n",
            "between\n",
            "into\n",
            "through\n",
            "during\n",
            "before\n",
            "after\n",
            "above\n",
            "below\n",
            "to\n",
            "from\n",
            "up\n",
            "down\n",
            "in\n",
            "out\n",
            "on\n",
            "off\n",
            "over\n",
            "under\n",
            "again\n",
            "further\n",
            "then\n",
            "once\n",
            "here\n",
            "there\n",
            "when\n",
            "where\n",
            "why\n",
            "how\n",
            "all\n",
            "any\n",
            "both\n",
            "each\n",
            "few\n",
            "more\n",
            "most\n",
            "other\n",
            "some\n",
            "such\n",
            "no\n",
            "nor\n",
            "not\n",
            "only\n",
            "own\n",
            "same\n",
            "so\n",
            "than\n",
            "too\n",
            "very\n",
            "s\n",
            "t\n",
            "can\n",
            "will\n",
            "just\n",
            "don\n",
            "don't\n",
            "should\n",
            "should've\n",
            "now\n",
            "d\n",
            "ll\n",
            "m\n",
            "o\n",
            "re\n",
            "ve\n",
            "y\n",
            "ain\n",
            "aren\n",
            "aren't\n",
            "couldn\n",
            "couldn't\n",
            "didn\n",
            "didn't\n",
            "doesn\n",
            "doesn't\n",
            "hadn\n",
            "hadn't\n",
            "hasn\n",
            "hasn't\n",
            "haven\n",
            "haven't\n",
            "isn\n",
            "isn't\n",
            "ma\n",
            "mightn\n",
            "mightn't\n",
            "mustn\n",
            "mustn't\n",
            "needn\n",
            "needn't\n",
            "shan\n",
            "shan't\n",
            "shouldn\n",
            "shouldn't\n",
            "wasn\n",
            "wasn't\n",
            "weren\n",
            "weren't\n",
            "won\n",
            "won't\n",
            "wouldn\n",
            "wouldn't\n",
            "No. of stopwords:  179\n"
          ]
        }
      ]
    },
    {
      "cell_type": "code",
      "source": [
        "sentences"
      ],
      "metadata": {
        "colab": {
          "base_uri": "https://localhost:8080/"
        },
        "id": "5U8ig5DgzRll",
        "outputId": "6092d8e5-fad8-4387-9eb0-aa91565587b8"
      },
      "execution_count": null,
      "outputs": [
        {
          "output_type": "execute_result",
          "data": {
            "text/plain": [
              "['Natural language processing ( NLP ) interdisciplinary subfield computer science linguistics .',\n",
              " 'It p rimarily concerned giving computers ability support manipulate speech .',\n",
              " 'It involves processing natural language datasets , text corpora speech corpora , using either rule-based probabilistic ( i.e .',\n",
              " 'statistical , recently , neural network-based ) machine learning approaches .',\n",
              " \"The goal computer capable `` understanding '' contents documents , including contextual nuances language within .\",\n",
              " 'The technology accurately extract information insights contained documents well categorize organize documents .',\n",
              " 'Challenges natural language processing frequently involve speech recognition , natural-language understanding , natural-language generation .',\n",
              " 'History natural language processing- Natural language processing roots 1950s .',\n",
              " \"Already 1950 , Alan Turing published article titled `` Computing Machinery Intelligence '' proposed called Turing test criterion intelligence , though time articulated problem separate artificial intelligence .\",\n",
              " 'The proposed test includes task involves automated interpretation generation natural language .']"
            ]
          },
          "metadata": {},
          "execution_count": 22
        }
      ]
    },
    {
      "cell_type": "markdown",
      "source": [
        "### Stemming and Lemmatization"
      ],
      "metadata": {
        "id": "NlSwAKocjPKw"
      }
    },
    {
      "cell_type": "code",
      "source": [
        "stemmer = PorterStemmer()\n",
        "\n",
        "# Stemming\n",
        "for i in range(len(sentences)):\n",
        "    words = nltk.word_tokenize(sentences[i])\n",
        "    words = [stemmer.stem(word) for word in words]\n",
        "    sentences[i] = ' '.join(words)\n",
        "sentences"
      ],
      "metadata": {
        "colab": {
          "base_uri": "https://localhost:8080/"
        },
        "id": "iTj9ZDoHB2PM",
        "outputId": "91ff2193-f6f5-43d9-ea22-295420232e55"
      },
      "execution_count": null,
      "outputs": [
        {
          "output_type": "execute_result",
          "data": {
            "text/plain": [
              "['natur languag process ( nlp ) interdisciplinari subfield comput scienc linguist .',\n",
              " 'it p rimarili concern give comput abil support manipul speech .',\n",
              " 'it involv process natur languag dataset , text corpora speech corpora , use either rule-bas probabilist ( i.e .',\n",
              " 'statist , recent , neural network-bas ) machin learn approach .',\n",
              " 'the goal comput capabl `` understand `` content document , includ contextu nuanc languag within .',\n",
              " 'the technolog accur extract inform insight contain document well categor organ document .',\n",
              " 'challeng natur languag process frequent involv speech recognit , natural-languag understand , natural-languag gener .',\n",
              " 'histori natur languag processing- natur languag process root 1950 .',\n",
              " 'alreadi 1950 , alan ture publish articl titl `` comput machineri intellig `` propos call ture test criterion intellig , though time articul problem separ artifici intellig .',\n",
              " 'the propos test includ task involv autom interpret gener natur languag .']"
            ]
          },
          "metadata": {},
          "execution_count": 20
        }
      ]
    },
    {
      "cell_type": "code",
      "source": [
        "lemmatizer = WordNetLemmatizer()\n",
        "\n",
        "# Lemmatization\n",
        "for i in range(len(sentences)):\n",
        "    words = nltk.word_tokenize(sentences[i])\n",
        "    words = [lemmatizer.lemmatize(word) for word in words]\n",
        "    sentences[i] = ' '.join(words)\n",
        "sentences"
      ],
      "metadata": {
        "id": "PMZZqRiqA5tD",
        "colab": {
          "base_uri": "https://localhost:8080/"
        },
        "outputId": "d16494de-5b19-4f83-c03e-16ea1dafc629"
      },
      "execution_count": null,
      "outputs": [
        {
          "output_type": "execute_result",
          "data": {
            "text/plain": [
              "['Natural language processing ( NLP ) interdisciplinary subfield computer science linguistics .',\n",
              " 'It p rimarily concerned giving computer ability support manipulate speech .',\n",
              " 'It involves processing natural language datasets , text corpus speech corpus , using either rule-based probabilistic ( i.e .',\n",
              " 'statistical , recently , neural network-based ) machine learning approach .',\n",
              " 'The goal computer capable `` understanding `` content document , including contextual nuance language within .',\n",
              " 'The technology accurately extract information insight contained document well categorize organize document .',\n",
              " 'Challenges natural language processing frequently involve speech recognition , natural-language understanding , natural-language generation .',\n",
              " 'History natural language processing- Natural language processing root 1950s .',\n",
              " 'Already 1950 , Alan Turing published article titled `` Computing Machinery Intelligence `` proposed called Turing test criterion intelligence , though time articulated problem separate artificial intelligence .',\n",
              " 'The proposed test includes task involves automated interpretation generation natural language .']"
            ]
          },
          "metadata": {},
          "execution_count": 32
        }
      ]
    },
    {
      "cell_type": "markdown",
      "source": [
        "### Part of Speech Tagging"
      ],
      "metadata": {
        "id": "bxoJrfbEjtCq"
      }
    },
    {
      "cell_type": "code",
      "source": [
        "# POS Tagging\n",
        "nltk.download('averaged_perceptron_tagger')\n",
        "words = nltk.word_tokenize(paragraph)\n",
        "\n",
        "tagged_words = nltk.pos_tag(words)\n",
        "\n",
        "# Tagged word paragraph\n",
        "word_tags = []\n",
        "for tw in tagged_words:\n",
        "    word_tags.append(tw[0]+\"_\"+tw[1])\n",
        "\n",
        "tagged_paragraph = ' '.join(word_tags)\n",
        "print(tagged_paragraph)"
      ],
      "metadata": {
        "colab": {
          "base_uri": "https://localhost:8080/"
        },
        "id": "SP2SOgWkDQ6W",
        "outputId": "d4053d44-da02-4405-a9a7-ed9b8ba5ceec"
      },
      "execution_count": null,
      "outputs": [
        {
          "output_type": "stream",
          "name": "stderr",
          "text": [
            "[nltk_data] Downloading package averaged_perceptron_tagger to\n",
            "[nltk_data]     /root/nltk_data...\n",
            "[nltk_data]   Unzipping taggers/averaged_perceptron_tagger.zip.\n"
          ]
        },
        {
          "output_type": "stream",
          "name": "stdout",
          "text": [
            "Natural_JJ language_NN processing_NN (_( NLP_NNP )_) is_VBZ an_DT interdisciplinary_JJ subfield_NN of_IN computer_NN science_NN and_CC linguistics_NNS ._. It_PRP is_VBZ p_JJ rimarily_RB concerned_VBN with_IN giving_VBG computers_NNS the_DT ability_NN to_TO support_VB and_CC manipulate_VB speech_NN ._. It_PRP involves_VBZ processing_VBG natural_JJ language_NN datasets_NNS ,_, such_JJ as_IN text_JJ corpora_NN or_CC speech_NN corpora_NNS ,_, using_VBG either_CC rule-based_JJ or_CC probabilistic_JJ (_( i.e_JJ ._. statistical_JJ and_CC ,_, most_RBS recently_RB ,_, neural_JJ network-based_JJ )_) machine_NN learning_VBG approaches_NNS ._. The_DT goal_NN is_VBZ a_DT computer_NN capable_NN of_IN ``_`` understanding_JJ ''_'' the_DT contents_NNS of_IN documents_NNS ,_, including_VBG the_DT contextual_JJ nuances_NNS of_IN the_DT language_NN within_IN them_PRP ._. The_DT technology_NN can_MD then_RB accurately_RB extract_JJ information_NN and_CC insights_NNS contained_VBN in_IN the_DT documents_NNS as_RB well_RB as_IN categorize_NN and_CC organize_VB the_DT documents_NNS themselves_PRP ._. Challenges_NNS in_IN natural_JJ language_NN processing_NN frequently_RB involve_VBP speech_NN recognition_NN ,_, natural-language_JJ understanding_NN ,_, and_CC natural-language_JJ generation_NN ._. History_NN of_IN natural_JJ language_NN processing-_JJ Natural_NNP language_NN processing_NN has_VBZ its_PRP$ roots_NNS in_IN the_DT 1950s_CD ._. Already_RB in_IN 1950_CD ,_, Alan_NNP Turing_NNP published_VBD an_DT article_NN titled_VBN ``_`` Computing_JJ Machinery_NN and_CC Intelligence_NNP ''_'' which_WDT proposed_VBD what_WP is_VBZ now_RB called_VBN the_DT Turing_NNP test_NN as_IN a_DT criterion_NN of_IN intelligence_NN ,_, though_RB at_IN the_DT time_NN that_WDT was_VBD not_RB articulated_VBN as_IN a_DT problem_NN separate_NN from_IN artificial_JJ intelligence_NN ._. The_DT proposed_JJ test_NN includes_VBZ a_DT task_NN that_WDT involves_VBZ the_DT automated_JJ interpretation_NN and_CC generation_NN of_IN natural_JJ language_NN ._.\n"
          ]
        }
      ]
    },
    {
      "cell_type": "code",
      "source": [
        "word_tags"
      ],
      "metadata": {
        "colab": {
          "base_uri": "https://localhost:8080/"
        },
        "id": "Utp5cWCm1iav",
        "outputId": "c83c33ed-a4ea-4bfa-ef7f-fa11564ca5e2"
      },
      "execution_count": null,
      "outputs": [
        {
          "output_type": "execute_result",
          "data": {
            "text/plain": [
              "['Natural_JJ',\n",
              " 'language_NN',\n",
              " 'processing_NN',\n",
              " '(_(',\n",
              " 'NLP_NNP',\n",
              " ')_)',\n",
              " 'is_VBZ',\n",
              " 'an_DT',\n",
              " 'interdisciplinary_JJ',\n",
              " 'subfield_NN',\n",
              " 'of_IN',\n",
              " 'computer_NN',\n",
              " 'science_NN',\n",
              " 'and_CC',\n",
              " 'linguistics_NNS',\n",
              " '._.',\n",
              " 'It_PRP',\n",
              " 'is_VBZ',\n",
              " 'p_JJ',\n",
              " 'rimarily_RB',\n",
              " 'concerned_VBN',\n",
              " 'with_IN',\n",
              " 'giving_VBG',\n",
              " 'computers_NNS',\n",
              " 'the_DT',\n",
              " 'ability_NN',\n",
              " 'to_TO',\n",
              " 'support_VB',\n",
              " 'and_CC',\n",
              " 'manipulate_VB',\n",
              " 'speech_NN',\n",
              " '._.',\n",
              " 'It_PRP',\n",
              " 'involves_VBZ',\n",
              " 'processing_VBG',\n",
              " 'natural_JJ',\n",
              " 'language_NN',\n",
              " 'datasets_NNS',\n",
              " ',_,',\n",
              " 'such_JJ',\n",
              " 'as_IN',\n",
              " 'text_JJ',\n",
              " 'corpora_NN',\n",
              " 'or_CC',\n",
              " 'speech_NN',\n",
              " 'corpora_NNS',\n",
              " ',_,',\n",
              " 'using_VBG',\n",
              " 'either_CC',\n",
              " 'rule-based_JJ',\n",
              " 'or_CC',\n",
              " 'probabilistic_JJ',\n",
              " '(_(',\n",
              " 'i.e_JJ',\n",
              " '._.',\n",
              " 'statistical_JJ',\n",
              " 'and_CC',\n",
              " ',_,',\n",
              " 'most_RBS',\n",
              " 'recently_RB',\n",
              " ',_,',\n",
              " 'neural_JJ',\n",
              " 'network-based_JJ',\n",
              " ')_)',\n",
              " 'machine_NN',\n",
              " 'learning_VBG',\n",
              " 'approaches_NNS',\n",
              " '._.',\n",
              " 'The_DT',\n",
              " 'goal_NN',\n",
              " 'is_VBZ',\n",
              " 'a_DT',\n",
              " 'computer_NN',\n",
              " 'capable_NN',\n",
              " 'of_IN',\n",
              " '``_``',\n",
              " 'understanding_JJ',\n",
              " \"''_''\",\n",
              " 'the_DT',\n",
              " 'contents_NNS',\n",
              " 'of_IN',\n",
              " 'documents_NNS',\n",
              " ',_,',\n",
              " 'including_VBG',\n",
              " 'the_DT',\n",
              " 'contextual_JJ',\n",
              " 'nuances_NNS',\n",
              " 'of_IN',\n",
              " 'the_DT',\n",
              " 'language_NN',\n",
              " 'within_IN',\n",
              " 'them_PRP',\n",
              " '._.',\n",
              " 'The_DT',\n",
              " 'technology_NN',\n",
              " 'can_MD',\n",
              " 'then_RB',\n",
              " 'accurately_RB',\n",
              " 'extract_JJ',\n",
              " 'information_NN',\n",
              " 'and_CC',\n",
              " 'insights_NNS',\n",
              " 'contained_VBN',\n",
              " 'in_IN',\n",
              " 'the_DT',\n",
              " 'documents_NNS',\n",
              " 'as_RB',\n",
              " 'well_RB',\n",
              " 'as_IN',\n",
              " 'categorize_NN',\n",
              " 'and_CC',\n",
              " 'organize_VB',\n",
              " 'the_DT',\n",
              " 'documents_NNS',\n",
              " 'themselves_PRP',\n",
              " '._.',\n",
              " 'Challenges_NNS',\n",
              " 'in_IN',\n",
              " 'natural_JJ',\n",
              " 'language_NN',\n",
              " 'processing_NN',\n",
              " 'frequently_RB',\n",
              " 'involve_VBP',\n",
              " 'speech_NN',\n",
              " 'recognition_NN',\n",
              " ',_,',\n",
              " 'natural-language_JJ',\n",
              " 'understanding_NN',\n",
              " ',_,',\n",
              " 'and_CC',\n",
              " 'natural-language_JJ',\n",
              " 'generation_NN',\n",
              " '._.',\n",
              " 'History_NN',\n",
              " 'of_IN',\n",
              " 'natural_JJ',\n",
              " 'language_NN',\n",
              " 'processing-_JJ',\n",
              " 'Natural_NNP',\n",
              " 'language_NN',\n",
              " 'processing_NN',\n",
              " 'has_VBZ',\n",
              " 'its_PRP$',\n",
              " 'roots_NNS',\n",
              " 'in_IN',\n",
              " 'the_DT',\n",
              " '1950s_CD',\n",
              " '._.',\n",
              " 'Already_RB',\n",
              " 'in_IN',\n",
              " '1950_CD',\n",
              " ',_,',\n",
              " 'Alan_NNP',\n",
              " 'Turing_NNP',\n",
              " 'published_VBD',\n",
              " 'an_DT',\n",
              " 'article_NN',\n",
              " 'titled_VBN',\n",
              " '``_``',\n",
              " 'Computing_JJ',\n",
              " 'Machinery_NN',\n",
              " 'and_CC',\n",
              " 'Intelligence_NNP',\n",
              " \"''_''\",\n",
              " 'which_WDT',\n",
              " 'proposed_VBD',\n",
              " 'what_WP',\n",
              " 'is_VBZ',\n",
              " 'now_RB',\n",
              " 'called_VBN',\n",
              " 'the_DT',\n",
              " 'Turing_NNP',\n",
              " 'test_NN',\n",
              " 'as_IN',\n",
              " 'a_DT',\n",
              " 'criterion_NN',\n",
              " 'of_IN',\n",
              " 'intelligence_NN',\n",
              " ',_,',\n",
              " 'though_RB',\n",
              " 'at_IN',\n",
              " 'the_DT',\n",
              " 'time_NN',\n",
              " 'that_WDT',\n",
              " 'was_VBD',\n",
              " 'not_RB',\n",
              " 'articulated_VBN',\n",
              " 'as_IN',\n",
              " 'a_DT',\n",
              " 'problem_NN',\n",
              " 'separate_NN',\n",
              " 'from_IN',\n",
              " 'artificial_JJ',\n",
              " 'intelligence_NN',\n",
              " '._.',\n",
              " 'The_DT',\n",
              " 'proposed_JJ',\n",
              " 'test_NN',\n",
              " 'includes_VBZ',\n",
              " 'a_DT',\n",
              " 'task_NN',\n",
              " 'that_WDT',\n",
              " 'involves_VBZ',\n",
              " 'the_DT',\n",
              " 'automated_JJ',\n",
              " 'interpretation_NN',\n",
              " 'and_CC',\n",
              " 'generation_NN',\n",
              " 'of_IN',\n",
              " 'natural_JJ',\n",
              " 'language_NN',\n",
              " '._.']"
            ]
          },
          "metadata": {},
          "execution_count": 26
        }
      ]
    },
    {
      "cell_type": "code",
      "source": [
        "tagged_words"
      ],
      "metadata": {
        "colab": {
          "base_uri": "https://localhost:8080/"
        },
        "id": "Wbw8pv0m1HAw",
        "outputId": "8a55badf-9ad5-47df-ac9d-f93eb56a2563"
      },
      "execution_count": null,
      "outputs": [
        {
          "output_type": "execute_result",
          "data": {
            "text/plain": [
              "[('Natural', 'JJ'),\n",
              " ('language', 'NN'),\n",
              " ('processing', 'NN'),\n",
              " ('(', '('),\n",
              " ('NLP', 'NNP'),\n",
              " (')', ')'),\n",
              " ('is', 'VBZ'),\n",
              " ('an', 'DT'),\n",
              " ('interdisciplinary', 'JJ'),\n",
              " ('subfield', 'NN'),\n",
              " ('of', 'IN'),\n",
              " ('computer', 'NN'),\n",
              " ('science', 'NN'),\n",
              " ('and', 'CC'),\n",
              " ('linguistics', 'NNS'),\n",
              " ('.', '.'),\n",
              " ('It', 'PRP'),\n",
              " ('is', 'VBZ'),\n",
              " ('p', 'JJ'),\n",
              " ('rimarily', 'RB'),\n",
              " ('concerned', 'VBN'),\n",
              " ('with', 'IN'),\n",
              " ('giving', 'VBG'),\n",
              " ('computers', 'NNS'),\n",
              " ('the', 'DT'),\n",
              " ('ability', 'NN'),\n",
              " ('to', 'TO'),\n",
              " ('support', 'VB'),\n",
              " ('and', 'CC'),\n",
              " ('manipulate', 'VB'),\n",
              " ('speech', 'NN'),\n",
              " ('.', '.'),\n",
              " ('It', 'PRP'),\n",
              " ('involves', 'VBZ'),\n",
              " ('processing', 'VBG'),\n",
              " ('natural', 'JJ'),\n",
              " ('language', 'NN'),\n",
              " ('datasets', 'NNS'),\n",
              " (',', ','),\n",
              " ('such', 'JJ'),\n",
              " ('as', 'IN'),\n",
              " ('text', 'JJ'),\n",
              " ('corpora', 'NN'),\n",
              " ('or', 'CC'),\n",
              " ('speech', 'NN'),\n",
              " ('corpora', 'NNS'),\n",
              " (',', ','),\n",
              " ('using', 'VBG'),\n",
              " ('either', 'CC'),\n",
              " ('rule-based', 'JJ'),\n",
              " ('or', 'CC'),\n",
              " ('probabilistic', 'JJ'),\n",
              " ('(', '('),\n",
              " ('i.e', 'JJ'),\n",
              " ('.', '.'),\n",
              " ('statistical', 'JJ'),\n",
              " ('and', 'CC'),\n",
              " (',', ','),\n",
              " ('most', 'RBS'),\n",
              " ('recently', 'RB'),\n",
              " (',', ','),\n",
              " ('neural', 'JJ'),\n",
              " ('network-based', 'JJ'),\n",
              " (')', ')'),\n",
              " ('machine', 'NN'),\n",
              " ('learning', 'VBG'),\n",
              " ('approaches', 'NNS'),\n",
              " ('.', '.'),\n",
              " ('The', 'DT'),\n",
              " ('goal', 'NN'),\n",
              " ('is', 'VBZ'),\n",
              " ('a', 'DT'),\n",
              " ('computer', 'NN'),\n",
              " ('capable', 'NN'),\n",
              " ('of', 'IN'),\n",
              " ('``', '``'),\n",
              " ('understanding', 'JJ'),\n",
              " (\"''\", \"''\"),\n",
              " ('the', 'DT'),\n",
              " ('contents', 'NNS'),\n",
              " ('of', 'IN'),\n",
              " ('documents', 'NNS'),\n",
              " (',', ','),\n",
              " ('including', 'VBG'),\n",
              " ('the', 'DT'),\n",
              " ('contextual', 'JJ'),\n",
              " ('nuances', 'NNS'),\n",
              " ('of', 'IN'),\n",
              " ('the', 'DT'),\n",
              " ('language', 'NN'),\n",
              " ('within', 'IN'),\n",
              " ('them', 'PRP'),\n",
              " ('.', '.'),\n",
              " ('The', 'DT'),\n",
              " ('technology', 'NN'),\n",
              " ('can', 'MD'),\n",
              " ('then', 'RB'),\n",
              " ('accurately', 'RB'),\n",
              " ('extract', 'JJ'),\n",
              " ('information', 'NN'),\n",
              " ('and', 'CC'),\n",
              " ('insights', 'NNS'),\n",
              " ('contained', 'VBN'),\n",
              " ('in', 'IN'),\n",
              " ('the', 'DT'),\n",
              " ('documents', 'NNS'),\n",
              " ('as', 'RB'),\n",
              " ('well', 'RB'),\n",
              " ('as', 'IN'),\n",
              " ('categorize', 'NN'),\n",
              " ('and', 'CC'),\n",
              " ('organize', 'VB'),\n",
              " ('the', 'DT'),\n",
              " ('documents', 'NNS'),\n",
              " ('themselves', 'PRP'),\n",
              " ('.', '.'),\n",
              " ('Challenges', 'NNS'),\n",
              " ('in', 'IN'),\n",
              " ('natural', 'JJ'),\n",
              " ('language', 'NN'),\n",
              " ('processing', 'NN'),\n",
              " ('frequently', 'RB'),\n",
              " ('involve', 'VBP'),\n",
              " ('speech', 'NN'),\n",
              " ('recognition', 'NN'),\n",
              " (',', ','),\n",
              " ('natural-language', 'JJ'),\n",
              " ('understanding', 'NN'),\n",
              " (',', ','),\n",
              " ('and', 'CC'),\n",
              " ('natural-language', 'JJ'),\n",
              " ('generation', 'NN'),\n",
              " ('.', '.'),\n",
              " ('History', 'NN'),\n",
              " ('of', 'IN'),\n",
              " ('natural', 'JJ'),\n",
              " ('language', 'NN'),\n",
              " ('processing-', 'JJ'),\n",
              " ('Natural', 'NNP'),\n",
              " ('language', 'NN'),\n",
              " ('processing', 'NN'),\n",
              " ('has', 'VBZ'),\n",
              " ('its', 'PRP$'),\n",
              " ('roots', 'NNS'),\n",
              " ('in', 'IN'),\n",
              " ('the', 'DT'),\n",
              " ('1950s', 'CD'),\n",
              " ('.', '.'),\n",
              " ('Already', 'RB'),\n",
              " ('in', 'IN'),\n",
              " ('1950', 'CD'),\n",
              " (',', ','),\n",
              " ('Alan', 'NNP'),\n",
              " ('Turing', 'NNP'),\n",
              " ('published', 'VBD'),\n",
              " ('an', 'DT'),\n",
              " ('article', 'NN'),\n",
              " ('titled', 'VBN'),\n",
              " ('``', '``'),\n",
              " ('Computing', 'JJ'),\n",
              " ('Machinery', 'NN'),\n",
              " ('and', 'CC'),\n",
              " ('Intelligence', 'NNP'),\n",
              " (\"''\", \"''\"),\n",
              " ('which', 'WDT'),\n",
              " ('proposed', 'VBD'),\n",
              " ('what', 'WP'),\n",
              " ('is', 'VBZ'),\n",
              " ('now', 'RB'),\n",
              " ('called', 'VBN'),\n",
              " ('the', 'DT'),\n",
              " ('Turing', 'NNP'),\n",
              " ('test', 'NN'),\n",
              " ('as', 'IN'),\n",
              " ('a', 'DT'),\n",
              " ('criterion', 'NN'),\n",
              " ('of', 'IN'),\n",
              " ('intelligence', 'NN'),\n",
              " (',', ','),\n",
              " ('though', 'RB'),\n",
              " ('at', 'IN'),\n",
              " ('the', 'DT'),\n",
              " ('time', 'NN'),\n",
              " ('that', 'WDT'),\n",
              " ('was', 'VBD'),\n",
              " ('not', 'RB'),\n",
              " ('articulated', 'VBN'),\n",
              " ('as', 'IN'),\n",
              " ('a', 'DT'),\n",
              " ('problem', 'NN'),\n",
              " ('separate', 'NN'),\n",
              " ('from', 'IN'),\n",
              " ('artificial', 'JJ'),\n",
              " ('intelligence', 'NN'),\n",
              " ('.', '.'),\n",
              " ('The', 'DT'),\n",
              " ('proposed', 'JJ'),\n",
              " ('test', 'NN'),\n",
              " ('includes', 'VBZ'),\n",
              " ('a', 'DT'),\n",
              " ('task', 'NN'),\n",
              " ('that', 'WDT'),\n",
              " ('involves', 'VBZ'),\n",
              " ('the', 'DT'),\n",
              " ('automated', 'JJ'),\n",
              " ('interpretation', 'NN'),\n",
              " ('and', 'CC'),\n",
              " ('generation', 'NN'),\n",
              " ('of', 'IN'),\n",
              " ('natural', 'JJ'),\n",
              " ('language', 'NN'),\n",
              " ('.', '.')]"
            ]
          },
          "metadata": {},
          "execution_count": 34
        }
      ]
    },
    {
      "cell_type": "markdown",
      "source": [
        "### Working with Regular Expression (re) Library for string and pattern functions\n",
        "[RegEx Library Simple functions](https://www.w3schools.com/python/python_regex.asp)"
      ],
      "metadata": {
        "id": "ntJ1xwbZj0IX"
      }
    },
    {
      "cell_type": "code",
      "source": [
        "import re"
      ],
      "metadata": {
        "id": "jo9A2hOEk5v3"
      },
      "execution_count": null,
      "outputs": []
    },
    {
      "cell_type": "code",
      "source": [
        "pattern1 = \"00I love Avengers\" #I love Justice League\n",
        "print(re.sub(r\"Avengers\",\"Justice League\",pattern1))\n",
        "\n",
        "print(re.sub(r\"[a-z]\",\"2\",pattern1,4,flags=re.I))"
      ],
      "metadata": {
        "colab": {
          "base_uri": "https://localhost:8080/"
        },
        "id": "uMJzzpbNF7ks",
        "outputId": "6f0d8977-c72f-4d38-c383-a855dd81cd46"
      },
      "execution_count": null,
      "outputs": [
        {
          "output_type": "stream",
          "name": "stdout",
          "text": [
            "00I love Justice League\n",
            "002 222e Avengers\n"
          ]
        }
      ]
    },
    {
      "cell_type": "code",
      "source": [
        "\n",
        "\n",
        "# initializing string\n",
        "test_str = \"Goerge is the best. 1234 Doing so for ! all good ;\"\n",
        "\n",
        "# printing original string\n",
        "print(\"The original string is : \" + test_str)\n",
        "\n",
        "# Removing punctuations in string\n",
        "# Using regex\n",
        "res = re.sub(r'[^\\w\\s]', '', test_str)\n",
        "\n",
        "# printing result\n",
        "print(\"The string after punctuation filter : \" + res)"
      ],
      "metadata": {
        "colab": {
          "base_uri": "https://localhost:8080/"
        },
        "id": "et_AXwQJIj5A",
        "outputId": "9a405755-ae31-49dd-92e2-c30e8b420acd"
      },
      "execution_count": null,
      "outputs": [
        {
          "output_type": "stream",
          "name": "stdout",
          "text": [
            "The original string is : Goerge is the best. 1234 Doing so for ! all good ;\n",
            "The string after punctuation filter : Goerge is the best 1234 Doing so for  all good \n"
          ]
        }
      ]
    },
    {
      "cell_type": "code",
      "source": [
        "import re\n",
        "\n",
        "# Sample string containing various elements\n",
        "sample_string = \"\"\"\n",
        "Hello, World!\n",
        "12345 -             This is a sample string with some symbols: @#$%\n",
        "It contains numbers like 123 and 3.14, and alphabets like abc and XYZ.\n",
        "There are also newline             characters\\nand\\ttab characters.\n",
        "It may contain email address of the form hetalg@regenesys.net.\n",
        "\"\"\"\n",
        "\n",
        "# Extract all words from the string\n",
        "words = re.findall(r'\\b\\w+\\b', sample_string)\n",
        "print(\"Words in the string:\", words)\n"
      ],
      "metadata": {
        "colab": {
          "base_uri": "https://localhost:8080/"
        },
        "id": "rg_DydlMIlau",
        "outputId": "a26b1541-6630-4beb-8a42-25867c9558fc"
      },
      "execution_count": 42,
      "outputs": [
        {
          "output_type": "stream",
          "name": "stdout",
          "text": [
            "Words in the string: ['Hello', 'World', '12345', 'This', 'is', 'a', 'sample', 'string', 'with', 'some', 'symbols', 'It', 'contains', 'numbers', 'like', '123', 'and', '3', '14', 'and', 'alphabets', 'like', 'abc', 'and', 'XYZ', 'There', 'are', 'also', 'newline', 'characters', 'and', 'tab', 'characters', 'It', 'may', 'contain', 'email', 'address', 'of', 'the', 'form', 'hetalg', 'regenesys', 'net']\n"
          ]
        }
      ]
    },
    {
      "cell_type": "code",
      "source": [
        "# Extract all numbers from the string\n",
        "numbers = re.findall(r'\\b\\d+\\b', sample_string)\n",
        "print(\"\\nNumbers in the string:\", numbers)\n"
      ],
      "metadata": {
        "colab": {
          "base_uri": "https://localhost:8080/"
        },
        "id": "aMq46B_vN9S4",
        "outputId": "af1a4a09-d597-419e-85fa-5456f4312954"
      },
      "execution_count": 43,
      "outputs": [
        {
          "output_type": "stream",
          "name": "stdout",
          "text": [
            "\n",
            "Numbers in the string: ['12345', '123', '3', '14']\n"
          ]
        }
      ]
    },
    {
      "cell_type": "code",
      "source": [
        "#  Replace all whitespace characters with a single space\n",
        "no_whitespace = re.sub(r'\\s+', ' ', sample_string)\n",
        "print(\"\\nString with single spaces:\", no_whitespace)"
      ],
      "metadata": {
        "colab": {
          "base_uri": "https://localhost:8080/"
        },
        "id": "pI3Jm1Ki6dTk",
        "outputId": "39f427ff-ff0b-475c-c90e-cedae5993949"
      },
      "execution_count": 44,
      "outputs": [
        {
          "output_type": "stream",
          "name": "stdout",
          "text": [
            "\n",
            "String with single spaces:  Hello, World! 12345 - This is a sample string with some symbols: @#$% It contains numbers like 123 and 3.14, and alphabets like abc and XYZ. There are also newline characters and tab characters. It may contain email address of the form hetalg@regenesys.net. \n"
          ]
        }
      ]
    },
    {
      "cell_type": "code",
      "source": [
        "# Extract all sentences from the string\n",
        "sentences = re.split(r'[.!?]', sample_string)\n",
        "print(\"\\nSentences in the string:\", sentences)\n"
      ],
      "metadata": {
        "colab": {
          "base_uri": "https://localhost:8080/"
        },
        "id": "W94LL8vD6VCw",
        "outputId": "d53e31d3-350b-425a-89cd-4b24f3f9acc7"
      },
      "execution_count": 45,
      "outputs": [
        {
          "output_type": "stream",
          "name": "stdout",
          "text": [
            "\n",
            "Sentences in the string: ['\\nHello, World', '\\n12345 -             This is a sample string with some symbols: @#$%\\nIt contains numbers like 123 and 3', '14, and alphabets like abc and XYZ', '\\nThere are also newline             characters\\nand\\ttab characters', '\\nIt may contain email address of the form hetalg@regenesys', 'net', '\\n']\n"
          ]
        }
      ]
    },
    {
      "cell_type": "code",
      "source": [
        "#  Remove all punctuation marks from the string\n",
        "no_punctuation = re.sub(r'[^\\w\\s]', '', sample_string)\n",
        "print(\"\\nString without punctuation marks:\", no_punctuation)"
      ],
      "metadata": {
        "colab": {
          "base_uri": "https://localhost:8080/"
        },
        "id": "1-8VC1iz6YVc",
        "outputId": "40fc86c6-4499-4c90-8f12-8dc31229da39"
      },
      "execution_count": 46,
      "outputs": [
        {
          "output_type": "stream",
          "name": "stdout",
          "text": [
            "\n",
            "String without punctuation marks: \n",
            "Hello World\n",
            "12345              This is a sample string with some symbols \n",
            "It contains numbers like 123 and 314 and alphabets like abc and XYZ\n",
            "There are also newline             characters\n",
            "and\ttab characters\n",
            "It may contain email address of the form hetalgregenesysnet\n",
            "\n"
          ]
        }
      ]
    },
    {
      "cell_type": "code",
      "source": [
        "# Find all email addresses in the string (basic email pattern)\n",
        "email_addresses = re.findall(r'\\b[A-Za-z0-9._%+-]+@[A-Za-z0-9.-]+\\.[A-Z|a-z]{2,7}\\b', sample_string)\n",
        "print(\"\\nEmail addresses in the string:\", email_addresses)\n"
      ],
      "metadata": {
        "colab": {
          "base_uri": "https://localhost:8080/"
        },
        "id": "XxoxvZMS6baU",
        "outputId": "3b489e0e-e31a-46ab-f048-f64cf42e630f"
      },
      "execution_count": 49,
      "outputs": [
        {
          "output_type": "stream",
          "name": "stdout",
          "text": [
            "\n",
            "Email addresses in the string: ['hetalg@regenesys.net']\n"
          ]
        }
      ]
    },
    {
      "cell_type": "code",
      "source": [],
      "metadata": {
        "id": "AHQD-JBC6n08"
      },
      "execution_count": null,
      "outputs": []
    }
  ],
  "metadata": {
    "kernelspec": {
      "display_name": "Python 3",
      "language": "python",
      "name": "python3"
    },
    "language_info": {
      "codemirror_mode": {
        "name": "ipython",
        "version": 3
      },
      "file_extension": ".py",
      "mimetype": "text/x-python",
      "name": "python",
      "nbconvert_exporter": "python",
      "pygments_lexer": "ipython3",
      "version": "3.8.5"
    },
    "vscode": {
      "interpreter": {
        "hash": "bb2581d2313c8de5ff979f59992136b7cd0b4a115e62fef02542a0c9e049ace1"
      }
    },
    "colab": {
      "provenance": [],
      "include_colab_link": true
    }
  },
  "nbformat": 4,
  "nbformat_minor": 0
}